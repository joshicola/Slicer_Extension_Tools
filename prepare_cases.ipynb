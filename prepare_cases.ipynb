{
 "cells": [
  {
   "cell_type": "markdown",
   "metadata": {},
   "source": [
    "# Import necessary libraries"
   ]
  },
  {
   "cell_type": "code",
   "execution_count": 1,
   "metadata": {},
   "outputs": [],
   "source": [
    "import flywheel\n",
    "import os\n",
    "import re\n",
    "import pandas as pd"
   ]
  },
  {
   "cell_type": "markdown",
   "metadata": {},
   "source": [
    "## Set the criteria"
   ]
  },
  {
   "cell_type": "code",
   "execution_count": null,
   "metadata": {},
   "outputs": [],
   "source": [
    "\n",
    "# How many subjects to process. If None, all subjects will be processed.\n",
    "SUBJECT_LIMIT = 5\n",
    "\n",
    "# Each of these are regular expressions that will be used to match the names\n",
    "# of the files in each session.\n",
    "t1_mask = r\"_t1.nii.gz\"\n",
    "t1ce_mask = r\"_t1ce.nii.gz\"\n",
    "t2_mask = r\"_t2.nii.gz\"\n",
    "flair_mask = r\"_flair.nii.gz\"\n",
    "seg_mask = r\"_seg.nii.gz\"\n",
    "\n",
    "additional_img_mask = rf\"{t1_mask}|{t1ce_mask}|{t2_mask}|{flair_mask}\"\n",
    "SEGMENT_NAMES = [\"Necrosis\", \"Hypoxia\", \"Edema\"]"
   ]
  },
  {
   "cell_type": "markdown",
   "metadata": {},
   "source": [
    "## Initialize the Flywheel Client with a valid API key"
   ]
  },
  {
   "cell_type": "code",
   "execution_count": 3,
   "metadata": {},
   "outputs": [],
   "source": [
    "api_key = os.getenv('FW_LATEST_KEY')\n",
    "client = flywheel.Client(api_key)\n",
    "\n",
    "# Get the project by id\n",
    "project = client.get(\"654c48075129e1019eeecf83\")"
   ]
  },
  {
   "cell_type": "markdown",
   "metadata": {},
   "source": [
    "## Iterate Through the Subjects and Sessions to find qualifying cases"
   ]
  },
  {
   "cell_type": "code",
   "execution_count": 9,
   "metadata": {},
   "outputs": [],
   "source": [
    "# Get and sort the subjects of the project\n",
    "subjects = project.subjects()\n",
    "sorted_subjects = sorted(subjects, key=lambda x: x.label)\n",
    "\n",
    "# Rows of a CSV that will be saved locally and uploaded to the project\n",
    "rows = []\n",
    "\n",
    "if SUBJECT_LIMIT is None:\n",
    "    SUBJECT_LIMIT = len(sorted_subjects)\n",
    "\n",
    "# Iterate through subjects\n",
    "for i in range(SUBJECT_LIMIT):\n",
    "    subject = sorted_subjects[i]\n",
    "    all_sessions = subject.sessions()\n",
    "\n",
    "    # Iterate through sessions\n",
    "    for session in all_sessions:\n",
    "        # Each case consists of a primary image, a mask, additional images, and additional masks\n",
    "        case_dict = {\"additional_images\": []}\n",
    "        all_acquisitions = session.acquisitions()\n",
    "\n",
    "        # Iterate through acquisitions\n",
    "        # This is where we will match the files to the case criteria\n",
    "        for acquisition in all_acquisitions:\n",
    "            acquisition = acquisition.reload()\n",
    "            files = acquisition.files\n",
    "            for acq_file in files:\n",
    "                img_dict = {\n",
    "                        \"parent\": acquisition.id,\n",
    "                        \"name\": acq_file.name\n",
    "                    }\n",
    "                if re.search(t1_mask, acq_file.name):\n",
    "                    case_dict[\"image\"] = img_dict\n",
    "                elif re.search(additional_img_mask, acq_file.name):\n",
    "                    case_dict[\"additional_images\"].append(img_dict)\n",
    "                elif re.search(seg_mask, acq_file.name):\n",
    "                    img_dict[\"segment_names\"] = SEGMENT_NAMES\n",
    "                    case_dict[\"mask\"] = img_dict\n",
    "        primary_img_acq = client.get(case_dict[\"image\"][\"parent\"])\n",
    "        path = (\n",
    "            f\"fw://{project.label}/\"\n",
    "            f\"{subject.label}/\"\n",
    "            f\"{session.label}/\"\n",
    "            f\"{primary_img_acq.label}\"\n",
    "        )\n",
    "        rows.append({\n",
    "            \"path\": path,\n",
    "            \"parent._id\": primary_img_acq.id,\n",
    "            \"file.name\": case_dict[\"image\"][\"name\"]\n",
    "        })\n",
    "        primary_file = primary_img_acq.get_file(case_dict[\"image\"][\"name\"])\n",
    "        primary_file.update_info({\"FlywheelCaseIteratorInfo\": case_dict})\n",
    "\n"
   ]
  },
  {
   "cell_type": "markdown",
   "metadata": {},
   "source": [
    "## Save the results to a CSV file"
   ]
  },
  {
   "cell_type": "code",
   "execution_count": null,
   "metadata": {},
   "outputs": [],
   "source": [
    "case_df = pd.json_normalize(rows)\n",
    "case_df.to_csv(\"case_dataframe.csv\", index=False)\n",
    "project.upload_file(\"case_dataframe.csv\")"
   ]
  }
 ],
 "metadata": {
  "kernelspec": {
   "display_name": "hpc-client-uLG6QU5j",
   "language": "python",
   "name": "python3"
  },
  "language_info": {
   "codemirror_mode": {
    "name": "ipython",
    "version": 3
   },
   "file_extension": ".py",
   "mimetype": "text/x-python",
   "name": "python",
   "nbconvert_exporter": "python",
   "pygments_lexer": "ipython3",
   "version": "3.12.3"
  }
 },
 "nbformat": 4,
 "nbformat_minor": 2
}
